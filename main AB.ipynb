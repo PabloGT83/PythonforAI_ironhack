{
  "cells": [
    {
      "cell_type": "markdown",
      "metadata": {
        "id": "slFerlF5PO1b"
      },
      "source": [
        "# Before your start:\n",
        "- Read the README.md file\n",
        "- Comment as much as you can and use the resources (README.md file)\n",
        "- Happy learning!"
      ]
    },
    {
      "cell_type": "code",
      "execution_count": 1,
      "metadata": {
        "id": "dL2gu7AMPO1d"
      },
      "outputs": [],
      "source": [
        "# import numpy and pandas\n",
        "import pandas as pd\n",
        "import numpy as np\n",
        "from scipy.stats import trim_mean, mode, skew, gaussian_kde, pearsonr, spearmanr, beta\n",
        "from statsmodels.stats.weightstats import ztest as ztest\n",
        "\n",
        "from scipy.stats import ttest_ind, norm, t\n",
        "from scipy.stats import f_oneway\n",
        "from scipy.stats import sem"
      ]
    },
    {
      "cell_type": "markdown",
      "metadata": {
        "id": "1JHxWZnTPO1e"
      },
      "source": [
        "# Challenge 1 - Exploring the Data\n",
        "\n",
        "In this challenge, we will examine all salaries of employees of the City of Chicago. We will start by loading the dataset and examining its contents"
      ]
    },
    {
      "cell_type": "code",
      "execution_count": 4,
      "metadata": {
        "id": "p_KEmVBOPO1e"
      },
      "outputs": [],
      "source": [
        "\n",
        " salaries= pd.read_csv('Current_Employee_Names__Salaries__and_Position_Titles.csv')"
      ]
    },
    {
      "cell_type": "markdown",
      "metadata": {
        "id": "nqxgAQjKPO1e"
      },
      "source": [
        "Examine the `salaries` dataset using the `head` function below."
      ]
    },
    {
      "cell_type": "code",
      "execution_count": 3,
      "metadata": {
        "colab": {
          "base_uri": "https://localhost:8080/",
          "height": 328
        },
        "id": "YDa-NDskPO1e",
        "outputId": "7f3b1118-0381-444e-fc34-5462933d0a4b"
      },
      "outputs": [
        {
          "output_type": "execute_result",
          "data": {
            "text/plain": [
              "                  Name                              Job Titles  \\\n",
              "0    AARON,  JEFFERY M                                SERGEANT   \n",
              "1      AARON,  KARINA   POLICE OFFICER (ASSIGNED AS DETECTIVE)   \n",
              "2  AARON,  KIMBERLEI R                CHIEF CONTRACT EXPEDITER   \n",
              "3  ABAD JR,  VICENTE M                       CIVIL ENGINEER IV   \n",
              "4    ABASCAL,  REECE E             TRAFFIC CONTROL AIDE-HOURLY   \n",
              "\n",
              "         Department Full or Part-Time Salary or Hourly  Typical Hours  \\\n",
              "0            POLICE                 F           Salary            NaN   \n",
              "1            POLICE                 F           Salary            NaN   \n",
              "2  GENERAL SERVICES                 F           Salary            NaN   \n",
              "3       WATER MGMNT                 F           Salary            NaN   \n",
              "4              OEMC                 P           Hourly           20.0   \n",
              "\n",
              "   Annual Salary  Hourly Rate  \n",
              "0       101442.0          NaN  \n",
              "1        94122.0          NaN  \n",
              "2       101592.0          NaN  \n",
              "3       110064.0          NaN  \n",
              "4            NaN        19.86  "
            ],
            "text/html": [
              "\n",
              "  <div id=\"df-c41a3d7b-f14b-482c-aa3d-1e9253845aa3\" class=\"colab-df-container\">\n",
              "    <div>\n",
              "<style scoped>\n",
              "    .dataframe tbody tr th:only-of-type {\n",
              "        vertical-align: middle;\n",
              "    }\n",
              "\n",
              "    .dataframe tbody tr th {\n",
              "        vertical-align: top;\n",
              "    }\n",
              "\n",
              "    .dataframe thead th {\n",
              "        text-align: right;\n",
              "    }\n",
              "</style>\n",
              "<table border=\"1\" class=\"dataframe\">\n",
              "  <thead>\n",
              "    <tr style=\"text-align: right;\">\n",
              "      <th></th>\n",
              "      <th>Name</th>\n",
              "      <th>Job Titles</th>\n",
              "      <th>Department</th>\n",
              "      <th>Full or Part-Time</th>\n",
              "      <th>Salary or Hourly</th>\n",
              "      <th>Typical Hours</th>\n",
              "      <th>Annual Salary</th>\n",
              "      <th>Hourly Rate</th>\n",
              "    </tr>\n",
              "  </thead>\n",
              "  <tbody>\n",
              "    <tr>\n",
              "      <th>0</th>\n",
              "      <td>AARON,  JEFFERY M</td>\n",
              "      <td>SERGEANT</td>\n",
              "      <td>POLICE</td>\n",
              "      <td>F</td>\n",
              "      <td>Salary</td>\n",
              "      <td>NaN</td>\n",
              "      <td>101442.0</td>\n",
              "      <td>NaN</td>\n",
              "    </tr>\n",
              "    <tr>\n",
              "      <th>1</th>\n",
              "      <td>AARON,  KARINA</td>\n",
              "      <td>POLICE OFFICER (ASSIGNED AS DETECTIVE)</td>\n",
              "      <td>POLICE</td>\n",
              "      <td>F</td>\n",
              "      <td>Salary</td>\n",
              "      <td>NaN</td>\n",
              "      <td>94122.0</td>\n",
              "      <td>NaN</td>\n",
              "    </tr>\n",
              "    <tr>\n",
              "      <th>2</th>\n",
              "      <td>AARON,  KIMBERLEI R</td>\n",
              "      <td>CHIEF CONTRACT EXPEDITER</td>\n",
              "      <td>GENERAL SERVICES</td>\n",
              "      <td>F</td>\n",
              "      <td>Salary</td>\n",
              "      <td>NaN</td>\n",
              "      <td>101592.0</td>\n",
              "      <td>NaN</td>\n",
              "    </tr>\n",
              "    <tr>\n",
              "      <th>3</th>\n",
              "      <td>ABAD JR,  VICENTE M</td>\n",
              "      <td>CIVIL ENGINEER IV</td>\n",
              "      <td>WATER MGMNT</td>\n",
              "      <td>F</td>\n",
              "      <td>Salary</td>\n",
              "      <td>NaN</td>\n",
              "      <td>110064.0</td>\n",
              "      <td>NaN</td>\n",
              "    </tr>\n",
              "    <tr>\n",
              "      <th>4</th>\n",
              "      <td>ABASCAL,  REECE E</td>\n",
              "      <td>TRAFFIC CONTROL AIDE-HOURLY</td>\n",
              "      <td>OEMC</td>\n",
              "      <td>P</td>\n",
              "      <td>Hourly</td>\n",
              "      <td>20.0</td>\n",
              "      <td>NaN</td>\n",
              "      <td>19.86</td>\n",
              "    </tr>\n",
              "  </tbody>\n",
              "</table>\n",
              "</div>\n",
              "    <div class=\"colab-df-buttons\">\n",
              "\n",
              "  <div class=\"colab-df-container\">\n",
              "    <button class=\"colab-df-convert\" onclick=\"convertToInteractive('df-c41a3d7b-f14b-482c-aa3d-1e9253845aa3')\"\n",
              "            title=\"Convert this dataframe to an interactive table.\"\n",
              "            style=\"display:none;\">\n",
              "\n",
              "  <svg xmlns=\"http://www.w3.org/2000/svg\" height=\"24px\" viewBox=\"0 -960 960 960\">\n",
              "    <path d=\"M120-120v-720h720v720H120Zm60-500h600v-160H180v160Zm220 220h160v-160H400v160Zm0 220h160v-160H400v160ZM180-400h160v-160H180v160Zm440 0h160v-160H620v160ZM180-180h160v-160H180v160Zm440 0h160v-160H620v160Z\"/>\n",
              "  </svg>\n",
              "    </button>\n",
              "\n",
              "  <style>\n",
              "    .colab-df-container {\n",
              "      display:flex;\n",
              "      gap: 12px;\n",
              "    }\n",
              "\n",
              "    .colab-df-convert {\n",
              "      background-color: #E8F0FE;\n",
              "      border: none;\n",
              "      border-radius: 50%;\n",
              "      cursor: pointer;\n",
              "      display: none;\n",
              "      fill: #1967D2;\n",
              "      height: 32px;\n",
              "      padding: 0 0 0 0;\n",
              "      width: 32px;\n",
              "    }\n",
              "\n",
              "    .colab-df-convert:hover {\n",
              "      background-color: #E2EBFA;\n",
              "      box-shadow: 0px 1px 2px rgba(60, 64, 67, 0.3), 0px 1px 3px 1px rgba(60, 64, 67, 0.15);\n",
              "      fill: #174EA6;\n",
              "    }\n",
              "\n",
              "    .colab-df-buttons div {\n",
              "      margin-bottom: 4px;\n",
              "    }\n",
              "\n",
              "    [theme=dark] .colab-df-convert {\n",
              "      background-color: #3B4455;\n",
              "      fill: #D2E3FC;\n",
              "    }\n",
              "\n",
              "    [theme=dark] .colab-df-convert:hover {\n",
              "      background-color: #434B5C;\n",
              "      box-shadow: 0px 1px 3px 1px rgba(0, 0, 0, 0.15);\n",
              "      filter: drop-shadow(0px 1px 2px rgba(0, 0, 0, 0.3));\n",
              "      fill: #FFFFFF;\n",
              "    }\n",
              "  </style>\n",
              "\n",
              "    <script>\n",
              "      const buttonEl =\n",
              "        document.querySelector('#df-c41a3d7b-f14b-482c-aa3d-1e9253845aa3 button.colab-df-convert');\n",
              "      buttonEl.style.display =\n",
              "        google.colab.kernel.accessAllowed ? 'block' : 'none';\n",
              "\n",
              "      async function convertToInteractive(key) {\n",
              "        const element = document.querySelector('#df-c41a3d7b-f14b-482c-aa3d-1e9253845aa3');\n",
              "        const dataTable =\n",
              "          await google.colab.kernel.invokeFunction('convertToInteractive',\n",
              "                                                    [key], {});\n",
              "        if (!dataTable) return;\n",
              "\n",
              "        const docLinkHtml = 'Like what you see? Visit the ' +\n",
              "          '<a target=\"_blank\" href=https://colab.research.google.com/notebooks/data_table.ipynb>data table notebook</a>'\n",
              "          + ' to learn more about interactive tables.';\n",
              "        element.innerHTML = '';\n",
              "        dataTable['output_type'] = 'display_data';\n",
              "        await google.colab.output.renderOutput(dataTable, element);\n",
              "        const docLink = document.createElement('div');\n",
              "        docLink.innerHTML = docLinkHtml;\n",
              "        element.appendChild(docLink);\n",
              "      }\n",
              "    </script>\n",
              "  </div>\n",
              "\n",
              "\n",
              "<div id=\"df-020c9d7c-c9d9-41b6-85e6-9f969777bdf9\">\n",
              "  <button class=\"colab-df-quickchart\" onclick=\"quickchart('df-020c9d7c-c9d9-41b6-85e6-9f969777bdf9')\"\n",
              "            title=\"Suggest charts\"\n",
              "            style=\"display:none;\">\n",
              "\n",
              "<svg xmlns=\"http://www.w3.org/2000/svg\" height=\"24px\"viewBox=\"0 0 24 24\"\n",
              "     width=\"24px\">\n",
              "    <g>\n",
              "        <path d=\"M19 3H5c-1.1 0-2 .9-2 2v14c0 1.1.9 2 2 2h14c1.1 0 2-.9 2-2V5c0-1.1-.9-2-2-2zM9 17H7v-7h2v7zm4 0h-2V7h2v10zm4 0h-2v-4h2v4z\"/>\n",
              "    </g>\n",
              "</svg>\n",
              "  </button>\n",
              "\n",
              "<style>\n",
              "  .colab-df-quickchart {\n",
              "      --bg-color: #E8F0FE;\n",
              "      --fill-color: #1967D2;\n",
              "      --hover-bg-color: #E2EBFA;\n",
              "      --hover-fill-color: #174EA6;\n",
              "      --disabled-fill-color: #AAA;\n",
              "      --disabled-bg-color: #DDD;\n",
              "  }\n",
              "\n",
              "  [theme=dark] .colab-df-quickchart {\n",
              "      --bg-color: #3B4455;\n",
              "      --fill-color: #D2E3FC;\n",
              "      --hover-bg-color: #434B5C;\n",
              "      --hover-fill-color: #FFFFFF;\n",
              "      --disabled-bg-color: #3B4455;\n",
              "      --disabled-fill-color: #666;\n",
              "  }\n",
              "\n",
              "  .colab-df-quickchart {\n",
              "    background-color: var(--bg-color);\n",
              "    border: none;\n",
              "    border-radius: 50%;\n",
              "    cursor: pointer;\n",
              "    display: none;\n",
              "    fill: var(--fill-color);\n",
              "    height: 32px;\n",
              "    padding: 0;\n",
              "    width: 32px;\n",
              "  }\n",
              "\n",
              "  .colab-df-quickchart:hover {\n",
              "    background-color: var(--hover-bg-color);\n",
              "    box-shadow: 0 1px 2px rgba(60, 64, 67, 0.3), 0 1px 3px 1px rgba(60, 64, 67, 0.15);\n",
              "    fill: var(--button-hover-fill-color);\n",
              "  }\n",
              "\n",
              "  .colab-df-quickchart-complete:disabled,\n",
              "  .colab-df-quickchart-complete:disabled:hover {\n",
              "    background-color: var(--disabled-bg-color);\n",
              "    fill: var(--disabled-fill-color);\n",
              "    box-shadow: none;\n",
              "  }\n",
              "\n",
              "  .colab-df-spinner {\n",
              "    border: 2px solid var(--fill-color);\n",
              "    border-color: transparent;\n",
              "    border-bottom-color: var(--fill-color);\n",
              "    animation:\n",
              "      spin 1s steps(1) infinite;\n",
              "  }\n",
              "\n",
              "  @keyframes spin {\n",
              "    0% {\n",
              "      border-color: transparent;\n",
              "      border-bottom-color: var(--fill-color);\n",
              "      border-left-color: var(--fill-color);\n",
              "    }\n",
              "    20% {\n",
              "      border-color: transparent;\n",
              "      border-left-color: var(--fill-color);\n",
              "      border-top-color: var(--fill-color);\n",
              "    }\n",
              "    30% {\n",
              "      border-color: transparent;\n",
              "      border-left-color: var(--fill-color);\n",
              "      border-top-color: var(--fill-color);\n",
              "      border-right-color: var(--fill-color);\n",
              "    }\n",
              "    40% {\n",
              "      border-color: transparent;\n",
              "      border-right-color: var(--fill-color);\n",
              "      border-top-color: var(--fill-color);\n",
              "    }\n",
              "    60% {\n",
              "      border-color: transparent;\n",
              "      border-right-color: var(--fill-color);\n",
              "    }\n",
              "    80% {\n",
              "      border-color: transparent;\n",
              "      border-right-color: var(--fill-color);\n",
              "      border-bottom-color: var(--fill-color);\n",
              "    }\n",
              "    90% {\n",
              "      border-color: transparent;\n",
              "      border-bottom-color: var(--fill-color);\n",
              "    }\n",
              "  }\n",
              "</style>\n",
              "\n",
              "  <script>\n",
              "    async function quickchart(key) {\n",
              "      const quickchartButtonEl =\n",
              "        document.querySelector('#' + key + ' button');\n",
              "      quickchartButtonEl.disabled = true;  // To prevent multiple clicks.\n",
              "      quickchartButtonEl.classList.add('colab-df-spinner');\n",
              "      try {\n",
              "        const charts = await google.colab.kernel.invokeFunction(\n",
              "            'suggestCharts', [key], {});\n",
              "      } catch (error) {\n",
              "        console.error('Error during call to suggestCharts:', error);\n",
              "      }\n",
              "      quickchartButtonEl.classList.remove('colab-df-spinner');\n",
              "      quickchartButtonEl.classList.add('colab-df-quickchart-complete');\n",
              "    }\n",
              "    (() => {\n",
              "      let quickchartButtonEl =\n",
              "        document.querySelector('#df-020c9d7c-c9d9-41b6-85e6-9f969777bdf9 button');\n",
              "      quickchartButtonEl.style.display =\n",
              "        google.colab.kernel.accessAllowed ? 'block' : 'none';\n",
              "    })();\n",
              "  </script>\n",
              "</div>\n",
              "    </div>\n",
              "  </div>\n"
            ],
            "application/vnd.google.colaboratory.intrinsic+json": {
              "type": "dataframe",
              "variable_name": "salaries",
              "summary": "{\n  \"name\": \"salaries\",\n  \"rows\": 33183,\n  \"fields\": [\n    {\n      \"column\": \"Name\",\n      \"properties\": {\n        \"dtype\": \"string\",\n        \"num_unique_values\": 32880,\n        \"samples\": [\n          \"FORRESTAL,  NICHOLAS P\",\n          \"O CONNELL,  MATTHEW J\",\n          \"CARTAGENA,  WANDA I\"\n        ],\n        \"semantic_type\": \"\",\n        \"description\": \"\"\n      }\n    },\n    {\n      \"column\": \"Job Titles\",\n      \"properties\": {\n        \"dtype\": \"category\",\n        \"num_unique_values\": 1111,\n        \"samples\": [\n          \"FOREMAN OF CEMENT FINISHERS\",\n          \"CERTIFIED MEDICAL ASST\",\n          \"CUSTODIAL WORKER\"\n        ],\n        \"semantic_type\": \"\",\n        \"description\": \"\"\n      }\n    },\n    {\n      \"column\": \"Department\",\n      \"properties\": {\n        \"dtype\": \"category\",\n        \"num_unique_values\": 35,\n        \"samples\": [\n          \"BUDGET & MGMT\",\n          \"BUSINESS AFFAIRS\",\n          \"HUMAN RESOURCES\"\n        ],\n        \"semantic_type\": \"\",\n        \"description\": \"\"\n      }\n    },\n    {\n      \"column\": \"Full or Part-Time\",\n      \"properties\": {\n        \"dtype\": \"category\",\n        \"num_unique_values\": 2,\n        \"samples\": [\n          \"P\",\n          \"F\"\n        ],\n        \"semantic_type\": \"\",\n        \"description\": \"\"\n      }\n    },\n    {\n      \"column\": \"Salary or Hourly\",\n      \"properties\": {\n        \"dtype\": \"category\",\n        \"num_unique_values\": 2,\n        \"samples\": [\n          \"Hourly\",\n          \"Salary\"\n        ],\n        \"semantic_type\": \"\",\n        \"description\": \"\"\n      }\n    },\n    {\n      \"column\": \"Typical Hours\",\n      \"properties\": {\n        \"dtype\": \"number\",\n        \"std\": 9.252076906577491,\n        \"min\": 10.0,\n        \"max\": 40.0,\n        \"num_unique_values\": 4,\n        \"samples\": [\n          40.0,\n          10.0\n        ],\n        \"semantic_type\": \"\",\n        \"description\": \"\"\n      }\n    },\n    {\n      \"column\": \"Annual Salary\",\n      \"properties\": {\n        \"dtype\": \"number\",\n        \"std\": 21041.35460162839,\n        \"min\": 7200.0,\n        \"max\": 300000.0,\n        \"num_unique_values\": 1000,\n        \"samples\": [\n          59976.0,\n          56928.0\n        ],\n        \"semantic_type\": \"\",\n        \"description\": \"\"\n      }\n    },\n    {\n      \"column\": \"Hourly Rate\",\n      \"properties\": {\n        \"dtype\": \"number\",\n        \"std\": 12.112572684276799,\n        \"min\": 2.65,\n        \"max\": 109.0,\n        \"num_unique_values\": 167,\n        \"samples\": [\n          20.24,\n          10.5\n        ],\n        \"semantic_type\": \"\",\n        \"description\": \"\"\n      }\n    }\n  ]\n}"
            }
          },
          "metadata": {},
          "execution_count": 3
        }
      ],
      "source": [
        "salaries.head()"
      ]
    },
    {
      "cell_type": "markdown",
      "metadata": {
        "id": "wk6Gmac4PO1f"
      },
      "source": [
        "We see from looking at the `head` function that there is quite a bit of missing data. Let's examine how much missing data is in each column. Produce this output in the cell below"
      ]
    },
    {
      "cell_type": "code",
      "execution_count": 5,
      "metadata": {
        "colab": {
          "base_uri": "https://localhost:8080/"
        },
        "id": "J-jp8Mp4PO1f",
        "outputId": "5229b59a-0639-4dab-ffa9-5ad6d1885510"
      },
      "outputs": [
        {
          "output_type": "stream",
          "name": "stdout",
          "text": [
            "Missing Data in Each Column:\n",
            "Name                     0\n",
            "Job Titles               0\n",
            "Department               0\n",
            "Full or Part-Time        0\n",
            "Salary or Hourly         0\n",
            "Typical Hours        25161\n",
            "Annual Salary         8022\n",
            "Hourly Rate          25161\n",
            "dtype: int64\n"
          ]
        }
      ],
      "source": [
        "missing_data = salaries.isnull().sum()\n",
        "print(\"Missing Data in Each Column:\")\n",
        "print(missing_data)"
      ]
    },
    {
      "cell_type": "markdown",
      "metadata": {
        "id": "Qj65a-kQPO1f"
      },
      "source": [
        "Let's also look at the count of hourly vs. salaried employees. Write the code in the cell below"
      ]
    },
    {
      "cell_type": "code",
      "execution_count": 7,
      "metadata": {
        "colab": {
          "base_uri": "https://localhost:8080/"
        },
        "id": "lihXZRvVPO1f",
        "outputId": "e2672f4a-133c-448a-e7ed-55f679812d41"
      },
      "outputs": [
        {
          "output_type": "stream",
          "name": "stdout",
          "text": [
            "Salary or Hourly\n",
            "Salary    25161\n",
            "Hourly     8022\n",
            "Name: count, dtype: int64\n"
          ]
        }
      ],
      "source": [
        "salary_hourly_count = salaries['Salary or Hourly'].value_counts()\n",
        "print(salary_hourly_count)"
      ]
    },
    {
      "cell_type": "markdown",
      "metadata": {
        "id": "zgzSwvSdPO1f"
      },
      "source": [
        "What this information indicates is that the table contains information about two types of employees - salaried and hourly. Some columns apply only to one type of employee while other columns only apply to another kind. This is why there are so many missing values. Therefore, we will not do anything to handle the missing values."
      ]
    },
    {
      "cell_type": "markdown",
      "metadata": {
        "id": "ocbwK4saPO1f"
      },
      "source": [
        "There are different departments in the city. List all departments and the count of employees in each department."
      ]
    },
    {
      "cell_type": "code",
      "execution_count": 8,
      "metadata": {
        "colab": {
          "base_uri": "https://localhost:8080/"
        },
        "id": "fWKdp8p6PO1f",
        "outputId": "ee33beba-2a89-4baa-9474-42368d6a586c"
      },
      "outputs": [
        {
          "output_type": "stream",
          "name": "stdout",
          "text": [
            "Department\n",
            "POLICE                   13414\n",
            "FIRE                      4641\n",
            "STREETS & SAN             2198\n",
            "OEMC                      2102\n",
            "WATER MGMNT               1879\n",
            "AVIATION                  1629\n",
            "TRANSPORTN                1140\n",
            "PUBLIC LIBRARY            1015\n",
            "GENERAL SERVICES           980\n",
            "FAMILY & SUPPORT           615\n",
            "FINANCE                    560\n",
            "HEALTH                     488\n",
            "CITY COUNCIL               411\n",
            "LAW                        407\n",
            "BUILDINGS                  269\n",
            "COMMUNITY DEVELOPMENT      207\n",
            "BUSINESS AFFAIRS           171\n",
            "COPA                       116\n",
            "BOARD OF ELECTION          107\n",
            "DoIT                        99\n",
            "PROCUREMENT                 92\n",
            "INSPECTOR GEN               87\n",
            "MAYOR'S OFFICE              85\n",
            "CITY CLERK                  84\n",
            "ANIMAL CONTRL               81\n",
            "HUMAN RESOURCES             79\n",
            "CULTURAL AFFAIRS            65\n",
            "BUDGET & MGMT               46\n",
            "ADMIN HEARNG                39\n",
            "DISABILITIES                28\n",
            "TREASURER                   22\n",
            "HUMAN RELATIONS             16\n",
            "BOARD OF ETHICS              8\n",
            "POLICE BOARD                 2\n",
            "LICENSE APPL COMM            1\n",
            "Name: count, dtype: int64\n"
          ]
        }
      ],
      "source": [
        "department_count = salaries['Department'].value_counts()\n",
        "print(department_count)"
      ]
    },
    {
      "cell_type": "markdown",
      "metadata": {
        "id": "xg3QAwh1PO1f"
      },
      "source": [
        "# Challenge 2 - Hypothesis Tests\n",
        "\n",
        "In this section of the lab, we will test whether the hourly wage of all hourly workers is significantly different from $30/hr. Import the correct one sample test function from scipy and perform the hypothesis test for a 95% two sided confidence interval."
      ]
    },
    {
      "cell_type": "code",
      "execution_count": 9,
      "metadata": {
        "colab": {
          "base_uri": "https://localhost:8080/"
        },
        "id": "IdzldjJyPO1g",
        "outputId": "55095d13-8ce7-412e-c2da-47ffc5c61593"
      },
      "outputs": [
        {
          "output_type": "stream",
          "name": "stdout",
          "text": [
            "Z-statistic: 20.6198057854942\n",
            "P-value: 1.8228873859286195e-94\n"
          ]
        }
      ],
      "source": [
        "from statsmodels.stats.weightstats import ztest\n",
        "# Since we have an N of 8022 and only one sample (Hourly workers), we go for a Z-test\n",
        "# H0: Hourly rate == 30\n",
        "# H1: Hourly rate != 30\n",
        "salaries_hourly = salaries[salaries['Salary or Hourly'] == 'Hourly']\n",
        "\n",
        "\n",
        "salaries_hourly = salaries[salaries['Salary or Hourly'] == 'Hourly']\n",
        "\n",
        "z_stat, p_value = ztest(salaries_hourly['Hourly Rate'], value=30)\n",
        "\n",
        "print(f\"Z-statistic: {z_stat}\")\n",
        "print(f\"P-value: {p_value}\")"
      ]
    },
    {
      "cell_type": "markdown",
      "metadata": {
        "id": "PXoNRoB6PO1g"
      },
      "source": [
        "We are also curious about salaries in the police force. The chief of police in Chicago claimed in a press briefing that salaries this year are higher than last year's mean of $86000/year a year for all salaried employees. Test this one sided hypothesis using a 95% confidence interval.\n",
        "\n",
        "Hint: A one tailed test has a p-value that is half of the two tailed p-value. If our hypothesis is greater than, then to reject, the test statistic must also be positive."
      ]
    },
    {
      "cell_type": "code",
      "execution_count": 10,
      "metadata": {
        "id": "ZD9y4VFtPO1g"
      },
      "outputs": [],
      "source": [
        "# Subset of the dataset: only Police department\n",
        "salaries_police = salaries[(salaries['Department'] == 'POLICE') & (salaries['Salary or Hourly'] == 'Salary')]"
      ]
    },
    {
      "cell_type": "code",
      "execution_count": 11,
      "metadata": {
        "colab": {
          "base_uri": "https://localhost:8080/"
        },
        "id": "W8VaxD3EPO1g",
        "outputId": "efb9e4c8-da75-4278-d02d-b9de19773955"
      },
      "outputs": [
        {
          "output_type": "stream",
          "name": "stdout",
          "text": [
            "Z-statistic: 3.081997005712994\n",
            "One-tailed P-value: 0.0010280845287547855\n",
            "Reject the null hypothesis: The salaries this year are significantly higher than $86000.\n"
          ]
        }
      ],
      "source": [
        "# Since we have an N of 13404 and only one sample (salary of the police), we go for a Z-test\n",
        "# H0: Annual Salary == 86000\n",
        "# H1: Annual Salary > 86000\n",
        "\n",
        "salaries_police = salaries[(salaries['Department'] == 'POLICE') & (salaries['Salary or Hourly'] == 'Salary')]\n",
        "\n",
        "z_stat, p_value_two_tailed = ztest(salaries_police['Annual Salary'], value=86000)\n",
        "\n",
        "p_value_one_tailed = p_value_two_tailed / 2\n",
        "\n",
        "# Print the results\n",
        "print(f\"Z-statistic: {z_stat}\")\n",
        "print(f\"One-tailed P-value: {p_value_one_tailed}\")\n",
        "\n",
        "if z_stat > 0 and p_value_one_tailed < 0.05:\n",
        "    print(\"Reject the null hypothesis: The salaries this year are significantly higher than $86000.\")\n",
        "else:\n",
        "    print(\"Fail to reject the null hypothesis: The salaries this year are not significantly higher than $86000.\")"
      ]
    },
    {
      "cell_type": "markdown",
      "metadata": {
        "id": "hxMUkoRkPO1g"
      },
      "source": [
        "Using the `crosstab` function, find the department that has the most hourly workers."
      ]
    },
    {
      "cell_type": "code",
      "execution_count": 13,
      "metadata": {
        "scrolled": true,
        "colab": {
          "base_uri": "https://localhost:8080/"
        },
        "id": "fORe2GcMPO1g",
        "outputId": "294c5ffd-f8d9-4f39-940f-e3939d3588c5"
      },
      "outputs": [
        {
          "output_type": "stream",
          "name": "stdout",
          "text": [
            "The department with the most hourly workers is STREETS & SAN with 1862 hourly workers.\n"
          ]
        }
      ],
      "source": [
        "hourly_workers = salaries[salaries['Salary or Hourly'] == 'Hourly']\n",
        "\n",
        "hourly_workers_count = pd.crosstab(hourly_workers['Department'], hourly_workers['Salary or Hourly'])\n",
        "\n",
        "most_hourly_workers_dept = hourly_workers_count.idxmax().values[0]\n",
        "most_hourly_workers_count = hourly_workers_count.max().values[0]\n",
        "\n",
        "print(f\"The department with the most hourly workers is {most_hourly_workers_dept} with {most_hourly_workers_count} hourly workers.\")"
      ]
    },
    {
      "cell_type": "markdown",
      "metadata": {
        "id": "cGRj193FPO1g"
      },
      "source": [
        "The workers from the department with the most hourly workers have complained that their hourly wage is less than $35/hour. Using a one sample t-test, test this one-sided hypothesis at the 95% confidence level."
      ]
    },
    {
      "cell_type": "code",
      "execution_count": 16,
      "metadata": {
        "colab": {
          "base_uri": "https://localhost:8080/"
        },
        "id": "_4HPs4iwPO1g",
        "outputId": "df7b8994-7ed9-4f58-be55-0aa679a60a68"
      },
      "outputs": [
        {
          "output_type": "stream",
          "name": "stdout",
          "text": [
            "T-statistic: -9.567447887848152\n",
            "One-tailed P-value: 1.6689265282353859e-21\n",
            "Reject the null hypothesis: The hourly wage is significantly less than $35/hour.\n"
          ]
        }
      ],
      "source": [
        "from scipy.stats import ttest_1samp\n",
        "\n",
        "hourly_workers = salaries[salaries['Salary or Hourly'] == 'Hourly']\n",
        "\n",
        "hourly_workers_count = pd.crosstab(hourly_workers['Department'], hourly_workers['Salary or Hourly'])\n",
        "\n",
        "most_hourly_workers_dept = hourly_workers_count.idxmax().values[0]\n",
        "\n",
        "most_hourly_workers = hourly_workers[hourly_workers['Department'] == most_hourly_workers_dept]\n",
        "\n",
        "t_stat, p_value_two_tailed = ttest_1samp(most_hourly_workers['Hourly Rate'], 35)\n",
        "\n",
        "p_value_one_tailed = p_value_two_tailed / 2\n",
        "\n",
        "print(f\"T-statistic: {t_stat}\")\n",
        "print(f\"One-tailed P-value: {p_value_one_tailed}\")\n",
        "\n",
        "if t_stat < 0 and p_value_one_tailed < 0.05:\n",
        "    print(\"Reject the null hypothesis: The hourly wage is significantly less than $35/hour.\")\n",
        "else:\n",
        "    print(\"Fail to reject the null hypothesis: The hourly wage is not significantly less than $35/hour.\")"
      ]
    }
  ],
  "metadata": {
    "kernelspec": {
      "display_name": "Python 3 (ipykernel)",
      "language": "python",
      "name": "python3"
    },
    "language_info": {
      "codemirror_mode": {
        "name": "ipython",
        "version": 3
      },
      "file_extension": ".py",
      "mimetype": "text/x-python",
      "name": "python",
      "nbconvert_exporter": "python",
      "pygments_lexer": "ipython3",
      "version": "3.9.13"
    },
    "colab": {
      "provenance": []
    }
  },
  "nbformat": 4,
  "nbformat_minor": 0
}