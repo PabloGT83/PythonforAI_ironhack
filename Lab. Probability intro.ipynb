{
 "cells": [
  {
   "cell_type": "markdown",
   "metadata": {},
   "source": [
    "# Probability"
   ]
  },
  {
   "cell_type": "markdown",
   "metadata": {},
   "source": [
    "## Challenge 1\n",
    "There is a box with 10 white balls, 12 red balls and 8 black balls. Calculate the probability of:\n",
    "* Taking a white ball out.\n",
    "* Taking a white ball on first extraction and a black ball out on second extraction without replacing the first one.\n",
    "* Taking a white ball on first extraction and a black ball out on second extraction replacing the first one.\n",
    "* Taking 3 balls and them being all different colours."
   ]
  },
  {
   "cell_type": "code",
   "execution_count": 1,
   "metadata": {
    "tags": []
   },
   "outputs": [
    {
     "name": "stdout",
     "output_type": "stream",
     "text": [
      "Probability of taking a white ball out: 0.33\n",
      "Probability of taking a white ball then a black ball without replacement: 0.09\n",
      "Probability of taking a white ball then a black ball with replacement: 0.09\n",
      "Probability of taking 3 balls and them being all different colors: 0.24\n"
     ]
    }
   ],
   "source": [
    "from math import comb\n",
    "\n",
    "# Total counts of each colored balls\n",
    "white = 10\n",
    "red = 12\n",
    "black = 8\n",
    "total_balls = white + red + black\n",
    "\n",
    "# Probability of taking a white ball out\n",
    "prob_white = white / total_balls\n",
    "\n",
    "# Probability of taking a white ball then a black ball without replacement\n",
    "prob_white_then_black_without_replacement = (white / total_balls) * (black / (total_balls - 1))\n",
    "\n",
    "# Probability of taking a white ball then a black ball with replacement\n",
    "prob_white_then_black_with_replacement = (white / total_balls) * (black / total_balls)\n",
    "\n",
    "# Probability of taking 3 balls and them being all different colors\n",
    "ways_to_pick_different_colors = comb(white, 1) * comb(red, 1) * comb(black, 1)\n",
    "total_ways_to_pick_3_balls = comb(total_balls, 3)\n",
    "prob_3_balls_all_different_colors = ways_to_pick_different_colors / total_ways_to_pick_3_balls\n",
    "\n",
    "# Outputting the results\n",
    "print(f\"Probability of taking a white ball out: {prob_white:.2f}\")\n",
    "print(f\"Probability of taking a white ball then a black ball without replacement: {prob_white_then_black_without_replacement:.2f}\")\n",
    "print(f\"Probability of taking a white ball then a black ball with replacement: {prob_white_then_black_with_replacement:.2f}\")\n",
    "print(f\"Probability of taking 3 balls and them being all different colors: {prob_3_balls_all_different_colors:.2f}\")\n"
   ]
  },
  {
   "cell_type": "markdown",
   "metadata": {},
   "source": [
    "## Challenge 2\n",
    "\n",
    "You want to go on picnic on Saturday. You hate rain, and would know to plan your weekend. To help you make a decision, you gather the following data about rainy days:\n",
    "\n",
    "* 40% of all days are cloudy.\n",
    "* About 50% of cloudy days are rainy. \n",
    "* About 20% of non-cloudy days are rainy.\n",
    "\n",
    "What is the chance of rain during next Saturday?"
   ]
  },
  {
   "cell_type": "code",
   "execution_count": 2,
   "metadata": {
    "tags": []
   },
   "outputs": [
    {
     "name": "stdout",
     "output_type": "stream",
     "text": [
      "The probability of rain next Saturday is 0.32\n"
     ]
    }
   ],
   "source": [
    "# Probability of a day being cloudy\n",
    "P_C = 0.4\n",
    "\n",
    "# Probability of rain given it's a cloudy day\n",
    "P_R_given_C = 0.5\n",
    "\n",
    "# Probability of rain given it's not a cloudy day\n",
    "P_R_given_not_C = 0.2\n",
    "\n",
    "# Probability of it not being a cloudy day\n",
    "P_not_C = 1 - P_C\n",
    "\n",
    "# Total probability of rain\n",
    "P_R = (P_R_given_C * P_C) + (P_R_given_not_C * P_not_C)\n",
    "\n",
    "print(f\"The probability of rain next Saturday is {P_R:.2f}\")\n"
   ]
  },
  {
   "cell_type": "markdown",
   "metadata": {},
   "source": [
    "## Challenge 3\n",
    "\n",
    "A and B are events of a probability such that $P(A) = 0.3$, $P(B) = 0.6$ and $P(A \\cap B) = 0.1$\n",
    "\n",
    "Which of the following statements are true?  \n",
    "**HINT: draw a big Venn Diagram by your side**  \n",
    "* $P(\\overline{A}) = 0.7$\n",
    "* $P(A \\cup B) = 0.6$\n",
    "* $P(A \\cap \\overline{B}) = 0.2$\n",
    "* $P(A \\cup \\overline{A}) = 1$  \n",
    "* $P(A \\cap (B \\cup \\overline{B})) = 0.4$\n",
    "* $P(\\overline{A} \\cap \\overline{B}) = 0.3$\n",
    "* $P(\\overline{A \\cap B}) = 0.9$"
   ]
  },
  {
   "cell_type": "code",
   "execution_count": 3,
   "metadata": {
    "tags": []
   },
   "outputs": [
    {
     "name": "stdout",
     "output_type": "stream",
     "text": [
      "P(not A) = 0.7 -> Expected: 0.7 -> True\n",
      "P(A union B) = 0.7999999999999999 -> Expected: 0.6 -> False\n",
      "P(A and not B) = 0.19999999999999998 -> Expected: 0.2 -> False\n",
      "P(A union not A) = 1 -> Expected: 1 -> True\n",
      "P(A and everything) = 0.3 -> Expected: 0.4 -> False\n",
      "P(not A and not B) = 0.20000000000000007 -> Expected: 0.3 -> False\n",
      "P(complement of A and B) = 0.9 -> Expected: 0.9 -> True\n"
     ]
    }
   ],
   "source": [
    "# Given probabilities\n",
    "P_A = 0.3\n",
    "P_B = 0.6\n",
    "P_A_and_B = 0.1\n",
    "\n",
    "# Calculations for the statements\n",
    "P_not_A = 1 - P_A  # Probability of not A\n",
    "P_A_union_B = P_A + P_B - P_A_and_B  # Probability of A union B\n",
    "P_A_and_not_B = P_A - P_A_and_B  # Probability of A and not B\n",
    "P_A_union_not_A = 1  # Probability of A union not A (entire sample space)\n",
    "P_A_and_everything = P_A  # Probability of A and the entire space (just P(A))\n",
    "P_not_A_and_not_B = 1 - (P_A + P_B - P_A_and_B)  # Probability of not A and not B\n",
    "P_complement_A_and_B = 1 - P_A_and_B  # Complement of A and B intersection\n",
    "\n",
    "# Outputting the results\n",
    "print(f\"P(not A) = {P_not_A} -> Expected: 0.7 -> {'True' if P_not_A == 0.7 else 'False'}\")\n",
    "print(f\"P(A union B) = {P_A_union_B} -> Expected: 0.6 -> {'True' if P_A_union_B == 0.6 else 'False'}\")\n",
    "print(f\"P(A and not B) = {P_A_and_not_B} -> Expected: 0.2 -> {'True' if P_A_and_not_B == 0.2 else 'False'}\")\n",
    "print(f\"P(A union not A) = {P_A_union_not_A} -> Expected: 1 -> {'True' if P_A_union_not_A == 1 else 'False'}\")\n",
    "print(f\"P(A and everything) = {P_A_and_everything} -> Expected: 0.4 -> {'True' if P_A_and_everything == 0.4 else 'False'}\")\n",
    "print(f\"P(not A and not B) = {P_not_A_and_not_B} -> Expected: 0.3 -> {'True' if P_not_A_and_not_B == 0.3 else 'False'}\")\n",
    "print(f\"P(complement of A and B) = {P_complement_A_and_B} -> Expected: 0.9 -> {'True' if P_complement_A_and_B == 0.9 else 'False'}\")\n"
   ]
  },
  {
   "cell_type": "markdown",
   "metadata": {},
   "source": [
    "## Challenge 4\n",
    "\n",
    " * If someone flies to China, the probability of getting Covid is 1%  \n",
    " * If someone flies to Italy, the probability of getting Covid is 20%  \n",
    "\n",
    "I roll 1 dice with numbers 1, 2, 3, 4, 5, 6:  \n",
    " * If 1: I fly to Italy\n",
    " * If not 1: I fly to China\n",
    "\n",
    "During my trip, I got Covid. What is the probability that I flew to China?"
   ]
  },
  {
   "cell_type": "code",
   "execution_count": 4,
   "metadata": {
    "tags": []
   },
   "outputs": [
    {
     "name": "stdout",
     "output_type": "stream",
     "text": [
      "The probability of having flown to China given that you got Covid is 0.20\n"
     ]
    }
   ],
   "source": [
    "# Given probabilities\n",
    "P_Italy = 1/6\n",
    "P_China = 5/6\n",
    "P_Covid_given_Italy = 0.20\n",
    "P_Covid_given_China = 0.01\n",
    "\n",
    "# Total probability of getting Covid\n",
    "P_Covid = (P_Covid_given_Italy * P_Italy) + (P_Covid_given_China * P_China)\n",
    "\n",
    "# Probability of having flown to China given that you got Covid\n",
    "P_China_given_Covid = (P_Covid_given_China * P_China) / P_Covid\n",
    "\n",
    "# Printing the result\n",
    "print(f\"The probability of having flown to China given that you got Covid is {P_China_given_Covid:.2f}\")\n"
   ]
  },
  {
   "cell_type": "markdown",
   "metadata": {},
   "source": [
    "## BONUS\n",
    "\n",
    "You roll 2 dice. What is the probability that the sum of the numbers is 7? And 8? And 9? Then simulate 10000 times and draw a countplot."
   ]
  },
  {
   "cell_type": "markdown",
   "metadata": {},
   "source": [
    "your explanation here"
   ]
  },
  {
   "cell_type": "code",
   "execution_count": 5,
   "metadata": {},
   "outputs": [
    {
     "name": "stdout",
     "output_type": "stream",
     "text": [
      "Probability of sum = 7: 0.167\n",
      "Probability of sum = 8: 0.139\n",
      "Probability of sum = 9: 0.111\n"
     ]
    }
   ],
   "source": [
    "# Probabilities of sums 7, 8, and 9\n",
    "prob_7 = 6 / 36\n",
    "prob_8 = 5 / 36\n",
    "prob_9 = 4 / 36\n",
    "\n",
    "print(f\"Probability of sum = 7: {prob_7:.3f}\")\n",
    "print(f\"Probability of sum = 8: {prob_8:.3f}\")\n",
    "print(f\"Probability of sum = 9: {prob_9:.3f}\")\n"
   ]
  },
  {
   "cell_type": "code",
   "execution_count": 6,
   "metadata": {},
   "outputs": [
    {
     "data": {
      "image/png": "[encoded data removed]",
      "text/plain": [
       "<Figure size 640x480 with 1 Axes>"
      ]
     },
     "metadata": {},
     "output_type": "display_data"
    }
   ],
   "source": [
    "import numpy as np\n",
    "import seaborn as sns\n",
    "import matplotlib.pyplot as plt\n",
    "\n",
    "# Simulate rolling two dice 10,000 times\n",
    "rolls = np.random.randint(1, 7, size=(10000, 2))\n",
    "sums = np.sum(rolls, axis=1)\n",
    "\n",
    "# Create a countplot of the sums\n",
    "sns.countplot(x=sums)\n",
    "plt.title('Distribution of Sums from 10,000 Rolls of Two Dice')\n",
    "plt.xlabel('Sum of Two Dice')\n",
    "plt.ylabel('Frequency')\n",
    "plt.show()"
   ]
  }
 ],
 "metadata": {
  "kernelspec": {
   "display_name": "Python 3 (ipykernel)",
   "language": "python",
   "name": "python3"
  },
  "language_info": {
   "codemirror_mode": {
    "name": "ipython",
    "version": 3
   },
   "file_extension": ".py",
   "mimetype": "text/x-python",
   "name": "python",
   "nbconvert_exporter": "python",
   "pygments_lexer": "ipython3",
   "version": "3.12.3"
  },
  "toc": {
   "base_numbering": 1,
   "nav_menu": {},
   "number_sections": false,
   "sideBar": true,
   "skip_h1_title": false,
   "title_cell": "Table of Contents",
   "title_sidebar": "Contents",
   "toc_cell": false,
   "toc_position": {
    "height": "calc(100% - 180px)",
    "left": "10px",
    "top": "150px",
    "width": "296.475px"
   },
   "toc_section_display": true,
   "toc_window_display": false
  },
  "varInspector": {
   "cols": {
    "lenName": 16,
    "lenType": 16,
    "lenVar": 40
   },
   "kernels_config": {
    "python": {
     "delete_cmd_postfix": "",
     "delete_cmd_prefix": "del ",
     "library": "var_list.py",
     "varRefreshCmd": "print(var_dic_list())"
    },
    "r": {
     "delete_cmd_postfix": ") ",
     "delete_cmd_prefix": "rm(",
     "library": "var_list.r",
     "varRefreshCmd": "cat(var_dic_list()) "
    }
   },
   "types_to_exclude": [
    "module",
    "function",
    "builtin_function_or_method",
    "instance",
    "_Feature"
   ],
   "window_display": false
  }
 },
 "nbformat": 4,
 "nbformat_minor": 4
}
