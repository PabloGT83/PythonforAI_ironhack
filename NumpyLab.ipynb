{
 "cells": [
  {
   "cell_type": "code",
   "execution_count": 3,
   "id": "15d6555d-e0a6-4816-8224-0210ba09638e",
   "metadata": {
    "tags": []
   },
   "outputs": [],
   "source": [
    "#1. Import the NUMPY package under the name np.\n",
    "import numpy as np"
   ]
  },
  {
   "cell_type": "code",
   "execution_count": 6,
   "id": "85f7f3ee-91fa-4ecf-be59-259898221283",
   "metadata": {
    "tags": []
   },
   "outputs": [
    {
     "name": "stdout",
     "output_type": "stream",
     "text": [
      "NumPy Version: 1.26.4\n",
      "NumPy Configuration:\n",
      "Build Dependencies:\n",
      "  blas:\n",
      "    detection method: pkgconfig\n",
      "    found: true\n",
      "    include directory: /opt/anaconda3/include\n",
      "    lib directory: /opt/anaconda3/lib\n",
      "    name: openblas\n",
      "    openblas configuration: USE_64BITINT= DYNAMIC_ARCH=1 DYNAMIC_OLDER= NO_CBLAS=\n",
      "      NO_LAPACK=0 NO_LAPACKE= NO_AFFINITY=1 USE_OPENMP=0 VORTEX MAX_THREADS=128\n",
      "    pc file directory: /opt/anaconda3/lib/pkgconfig\n",
      "    version: 0.3.21\n",
      "  lapack:\n",
      "    detection method: internal\n",
      "    found: true\n",
      "    include directory: unknown\n",
      "    lib directory: unknown\n",
      "    name: dep4408414224\n",
      "    openblas configuration: unknown\n",
      "    pc file directory: unknown\n",
      "    version: 1.26.4\n",
      "Compilers:\n",
      "  c:\n",
      "    args: -ftree-vectorize, -fPIC, -fPIE, -fstack-protector-strong, -O2, -pipe, -isystem,\n",
      "      /opt/anaconda3/include, -fdebug-prefix-map=/var/folders/k1/30mswbxs7r1g6zwn8y4fyt500000gp/T/abs_a51i_mbs7m/croot/numpy_and_numpy_base_1708638620867/work=/usr/local/src/conda/numpy-base-1.26.4,\n",
      "      -fdebug-prefix-map=/opt/anaconda3=/usr/local/src/conda-prefix, -D_FORTIFY_SOURCE=2,\n",
      "      -isystem, /opt/anaconda3/include, -mmacosx-version-min=11.1\n",
      "    commands: arm64-apple-darwin20.0.0-clang\n",
      "    linker: ld64\n",
      "    linker args: -Wl,-pie, -Wl,-headerpad_max_install_names, -Wl,-dead_strip_dylibs,\n",
      "      -Wl,-rpath,/opt/anaconda3/lib, -L/opt/anaconda3/lib, -ftree-vectorize, -fPIC,\n",
      "      -fPIE, -fstack-protector-strong, -O2, -pipe, -isystem, /opt/anaconda3/include,\n",
      "      -fdebug-prefix-map=/var/folders/k1/30mswbxs7r1g6zwn8y4fyt500000gp/T/abs_a51i_mbs7m/croot/numpy_and_numpy_base_1708638620867/work=/usr/local/src/conda/numpy-base-1.26.4,\n",
      "      -fdebug-prefix-map=/opt/anaconda3=/usr/local/src/conda-prefix, -D_FORTIFY_SOURCE=2,\n",
      "      -isystem, /opt/anaconda3/include, -mmacosx-version-min=11.1\n",
      "    name: clang\n",
      "    version: 14.0.6\n",
      "  c++:\n",
      "    args: -ftree-vectorize, -fPIC, -fPIE, -fstack-protector-strong, -O2, -pipe, -stdlib=libc++,\n",
      "      -fvisibility-inlines-hidden, -fmessage-length=0, -isystem, /opt/anaconda3/include,\n",
      "      -fdebug-prefix-map=/var/folders/k1/30mswbxs7r1g6zwn8y4fyt500000gp/T/abs_a51i_mbs7m/croot/numpy_and_numpy_base_1708638620867/work=/usr/local/src/conda/numpy-base-1.26.4,\n",
      "      -fdebug-prefix-map=/opt/anaconda3=/usr/local/src/conda-prefix, -D_FORTIFY_SOURCE=2,\n",
      "      -isystem, /opt/anaconda3/include, -mmacosx-version-min=11.1\n",
      "    commands: arm64-apple-darwin20.0.0-clang++\n",
      "    linker: ld64\n",
      "    linker args: -Wl,-pie, -Wl,-headerpad_max_install_names, -Wl,-dead_strip_dylibs,\n",
      "      -Wl,-rpath,/opt/anaconda3/lib, -L/opt/anaconda3/lib, -ftree-vectorize, -fPIC,\n",
      "      -fPIE, -fstack-protector-strong, -O2, -pipe, -stdlib=libc++, -fvisibility-inlines-hidden,\n",
      "      -fmessage-length=0, -isystem, /opt/anaconda3/include, -fdebug-prefix-map=/var/folders/k1/30mswbxs7r1g6zwn8y4fyt500000gp/T/abs_a51i_mbs7m/croot/numpy_and_numpy_base_1708638620867/work=/usr/local/src/conda/numpy-base-1.26.4,\n",
      "      -fdebug-prefix-map=/opt/anaconda3=/usr/local/src/conda-prefix, -D_FORTIFY_SOURCE=2,\n",
      "      -isystem, /opt/anaconda3/include, -mmacosx-version-min=11.1\n",
      "    name: clang\n",
      "    version: 14.0.6\n",
      "  cython:\n",
      "    commands: cython\n",
      "    linker: cython\n",
      "    name: cython\n",
      "    version: 3.0.8\n",
      "Machine Information:\n",
      "  build:\n",
      "    cpu: aarch64\n",
      "    endian: little\n",
      "    family: aarch64\n",
      "    system: darwin\n",
      "  host:\n",
      "    cpu: aarch64\n",
      "    endian: little\n",
      "    family: aarch64\n",
      "    system: darwin\n",
      "Python Information:\n",
      "  path: /opt/anaconda3/bin/python\n",
      "  version: '3.11'\n",
      "SIMD Extensions:\n",
      "  baseline:\n",
      "  - NEON\n",
      "  - NEON_FP16\n",
      "  - NEON_VFPV4\n",
      "  - ASIMD\n",
      "  found:\n",
      "  - ASIMDHP\n",
      "  not found:\n",
      "  - ASIMDFHM\n",
      "\n",
      "None\n"
     ]
    }
   ],
   "source": [
    "# 2. Print the NUMPY version and the configuration.\n",
    "print(\"NumPy Version:\", np.__version__)\n",
    "print(\"NumPy Configuration:\")\n",
    "print(np.show_config())"
   ]
  },
  {
   "cell_type": "code",
   "execution_count": 8,
   "id": "ce1b7f2c-9e92-4f2a-aef4-26119b370e4e",
   "metadata": {
    "tags": []
   },
   "outputs": [
    {
     "name": "stdout",
     "output_type": "stream",
     "text": [
      "Array a:\n",
      " [[[0.89954718 0.74019207 0.92837862 0.64565576 0.6154871 ]\n",
      "  [0.5189409  0.59590468 0.38179435 0.6401807  0.97877192]\n",
      "  [0.06641084 0.37600692 0.0574289  0.49661098 0.16035803]]\n",
      "\n",
      " [[0.57764584 0.43334498 0.39249701 0.36964326 0.71192014]\n",
      "  [0.95919928 0.39938721 0.56075441 0.47385908 0.28967461]\n",
      "  [0.14435921 0.58033138 0.73943096 0.71174968 0.06691934]]]\n"
     ]
    }
   ],
   "source": [
    "# 3. Generate a 2x3x5 3-dimensional array with random values. Assign the array to variable \"a\"\n",
    "a = np.random.random((2, 3, 5))\n",
    "\n",
    "# 4. Print a.\n",
    "print(\"Array a:\\n\", a)"
   ]
  },
  {
   "cell_type": "code",
   "execution_count": 10,
   "id": "4d117d59-5b1c-4984-8105-08554b96a148",
   "metadata": {
    "tags": []
   },
   "outputs": [
    {
     "name": "stdout",
     "output_type": "stream",
     "text": [
      "Array b:\n",
      " [[[1. 1. 1.]\n",
      "  [1. 1. 1.]]\n",
      "\n",
      " [[1. 1. 1.]\n",
      "  [1. 1. 1.]]\n",
      "\n",
      " [[1. 1. 1.]\n",
      "  [1. 1. 1.]]\n",
      "\n",
      " [[1. 1. 1.]\n",
      "  [1. 1. 1.]]\n",
      "\n",
      " [[1. 1. 1.]\n",
      "  [1. 1. 1.]]]\n",
      "Do a and b have the same size? True\n"
     ]
    }
   ],
   "source": [
    "# 5. Create a 5x2x3 3-dimensional array with all values equaling 1.\n",
    "b = np.ones((5, 2, 3))\n",
    "\n",
    "# 6. Print b.\n",
    "print(\"Array b:\\n\", b)\n",
    "\n",
    "# 7. Do a and b have the same size? How do you prove that in Python code?\n",
    "print(\"Do a and b have the same size?\", a.size == b.size)"
   ]
  },
  {
   "cell_type": "code",
   "execution_count": 12,
   "id": "52c6c34a-dc30-43bd-a2fb-64abf3ac129f",
   "metadata": {
    "tags": []
   },
   "outputs": [
    {
     "name": "stdout",
     "output_type": "stream",
     "text": [
      "Array a:\n",
      " [[[0.89954718 0.74019207 0.92837862 0.64565576 0.6154871 ]\n",
      "  [0.5189409  0.59590468 0.38179435 0.6401807  0.97877192]\n",
      "  [0.06641084 0.37600692 0.0574289  0.49661098 0.16035803]]\n",
      "\n",
      " [[0.57764584 0.43334498 0.39249701 0.36964326 0.71192014]\n",
      "  [0.95919928 0.39938721 0.56075441 0.47385908 0.28967461]\n",
      "  [0.14435921 0.58033138 0.73943096 0.71174968 0.06691934]]]\n",
      "Array d:\n",
      " [[[1.89954718 1.74019207 1.92837862 1.64565576 1.6154871 ]\n",
      "  [1.5189409  1.59590468 1.38179435 1.6401807  1.97877192]\n",
      "  [1.06641084 1.37600692 1.0574289  1.49661098 1.16035803]]\n",
      "\n",
      " [[1.57764584 1.43334498 1.39249701 1.36964326 1.71192014]\n",
      "  [1.95919928 1.39938721 1.56075441 1.47385908 1.28967461]\n",
      "  [1.14435921 1.58033138 1.73943096 1.71174968 1.06691934]]]\n"
     ]
    }
   ],
   "source": [
    "# 8. Are you able to add a and b? Why or why not?\n",
    "# No, because they do not have the same shape and thus cannot be broadcast together for addition.\n",
    "\n",
    "# 9. Transpose b so that it has the same structure of a (i.e., become a 2x3x5 array). Assign the transposed array to variable \"c\".\n",
    "c = np.transpose(b, (1, 2, 0))\n",
    "\n",
    "# 10. Try to add a and c. Now it should work. Assign the sum to variable \"d\". But why does it work now?\n",
    "d = a + c  # Works because c is now the same shape as a.\n",
    "\n",
    "# 11. Print a and d. Notice the difference and relation of the two array in terms of the values? Explain.\n",
    "print(\"Array a:\\n\", a)\n",
    "print(\"Array d:\\n\", d)  # d should be a with 1 added to each element."
   ]
  },
  {
   "cell_type": "code",
   "execution_count": 14,
   "id": "45603a3f-42a2-47b9-a4f4-c993808a659b",
   "metadata": {
    "tags": []
   },
   "outputs": [
    {
     "name": "stdout",
     "output_type": "stream",
     "text": [
      "Does e equal to a? True\n"
     ]
    }
   ],
   "source": [
    "# 12. Multiply a and c. Assign the result to e.\n",
    "e = a * c\n",
    "\n",
    "# 13. Does e equal to a? Why or why not?\n",
    "print(\"Does e equal to a?\", np.array_equal(e, a))  # Yes, because multiplying by 1 does not change the values.\n",
    "\n",
    "# 14. Identify the max, min, and mean values in d. Assign those values to variables \"d_max\", \"d_min\", and \"d_mean\".\n",
    "d_max = np.max(d)\n",
    "d_min = np.min(d)\n",
    "d_mean = np.mean(d)\n",
    "\n",
    "# 15. Now we want to label the values in d. First create an empty array \"f\" with the same shape (i.e., 2x3x5) as d using `np.empty`.\n",
    "f = np.empty_like(d)"
   ]
  },
  {
   "cell_type": "code",
   "execution_count": 16,
   "id": "d28165ec-d240-477e-a236-c9aef6b3242a",
   "metadata": {
    "tags": []
   },
   "outputs": [
    {
     "name": "stdout",
     "output_type": "stream",
     "text": [
      "Array d:\n",
      " [[[1.89954718 1.74019207 1.92837862 1.64565576 1.6154871 ]\n",
      "  [1.5189409  1.59590468 1.38179435 1.6401807  1.97877192]\n",
      "  [1.06641084 1.37600692 1.0574289  1.49661098 1.16035803]]\n",
      "\n",
      " [[1.57764584 1.43334498 1.39249701 1.36964326 1.71192014]\n",
      "  [1.95919928 1.39938721 1.56075441 1.47385908 1.28967461]\n",
      "  [1.14435921 1.58033138 1.73943096 1.71174968 1.06691934]]]\n",
      "Array f:\n",
      " [[[ 75.  75.  75.  75.  75.]\n",
      "  [ 75.  75.  25.  75. 100.]\n",
      "  [ 25.  25.   0.  25.  25.]]\n",
      "\n",
      " [[ 75.  25.  25.  25.  75.]\n",
      "  [ 75.  25.  75.  25.  25.]\n",
      "  [ 25.  75.  75.  75.  25.]]]\n",
      "Labeled array with string values:\n",
      " [[['D' 'D' 'D' 'D' 'D']\n",
      "  ['D' 'D' 'B' 'D' 'E']\n",
      "  ['B' 'B' 'A' 'B' 'B']]\n",
      "\n",
      " [['D' 'B' 'B' 'B' 'D']\n",
      "  ['D' 'B' 'D' 'B' 'B']\n",
      "  ['B' 'D' 'D' 'D' 'B']]]\n"
     ]
    }
   ],
   "source": [
    "# 16. Populate the values in f.\n",
    "for i in range(d.shape[0]):\n",
    "    for j in range(d.shape[1]):\n",
    "        for k in range(d.shape[2]):\n",
    "            if d[i, j, k] < d_mean:\n",
    "                if d[i, j, k] == d_min:\n",
    "                    f[i, j, k] = 0\n",
    "                else:\n",
    "                    f[i, j, k] = 25\n",
    "            elif d[i, j, k] > d_mean:\n",
    "                if d[i, j, k] == d_max:\n",
    "                    f[i, j, k] = 100\n",
    "                else:\n",
    "                    f[i, j, k] = 75\n",
    "            else:\n",
    "                f[i, j, k] = 50\n",
    "\n",
    "# 17. Print d and f.\n",
    "print(\"Array d:\\n\", d)\n",
    "print(\"Array f:\\n\", f)\n",
    "\n",
    "# 18. Bonus question: Using string values to label the array elements.\n",
    "labels = np.empty(d.shape, dtype=str)\n",
    "labels[f == 0] = 'A'\n",
    "labels[f == 25] = 'B'\n",
    "labels[f == 50] = 'C'\n",
    "labels[f == 75] = 'D'\n",
    "labels[f == 100] = 'E'\n",
    "\n",
    "print(\"Labeled array with string values:\\n\", labels)"
   ]
  },
  {
   "cell_type": "code",
   "execution_count": null,
   "id": "7a5ded7a-ba08-465d-bd1b-6e7a982e1d2c",
   "metadata": {},
   "outputs": [],
   "source": []
  },
  {
   "cell_type": "code",
   "execution_count": null,
   "id": "5ba2ce59-3ac3-4c0e-87a0-eed2bb709c13",
   "metadata": {},
   "outputs": [],
   "source": []
  },
  {
   "cell_type": "code",
   "execution_count": null,
   "id": "bacb98ef-0419-433e-ac25-88de45b35ce9",
   "metadata": {},
   "outputs": [],
   "source": []
  }
 ],
 "metadata": {
  "kernelspec": {
   "display_name": "Python 3 (ipykernel)",
   "language": "python",
   "name": "python3"
  },
  "language_info": {
   "codemirror_mode": {
    "name": "ipython",
    "version": 3
   },
   "file_extension": ".py",
   "mimetype": "text/x-python",
   "name": "python",
   "nbconvert_exporter": "python",
   "pygments_lexer": "ipython3",
   "version": "3.11.7"
  }
 },
 "nbformat": 4,
 "nbformat_minor": 5
}
